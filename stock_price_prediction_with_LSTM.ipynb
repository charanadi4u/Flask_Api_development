{
 "cells": [
  {
   "cell_type": "code",
   "execution_count": 1,
   "id": "27bb8c86-d4a1-42a0-b95a-577a20332eda",
   "metadata": {},
   "outputs": [],
   "source": [
    "import math\n",
    "import numpy as np\n",
    "import pandas as pd\n",
    "import pandas_datareader as web\n",
    "#from sklearn.tree import DecisionTreeRegressor\n",
    "#from sklearn.linear_model import LinearRegression\n",
    "#from sklearn.model_selection import train_test_split\n",
    "from sklearn.preprocessing import MinMaxScaler\n",
    "from keras.models import Sequential\n",
    "from keras.layers import Dense, LSTM\n",
    "import matplotlib.pyplot as plt"
   ]
  },
  {
   "cell_type": "code",
   "execution_count": null,
   "id": "e535c1b2-7f06-40d4-a30f-16ffd2bb721d",
   "metadata": {},
   "outputs": [],
   "source": [
    "ticker = 'AMZN'  #amazon  start=   end = current date"
   ]
  },
  {
   "cell_type": "code",
   "execution_count": null,
   "id": "536737bd-6f38-49f7-9df0-4b98da1a6ac7",
   "metadata": {},
   "outputs": [],
   "source": [
    "ticker = 'TSLA'  #Tesla start=   end = current date"
   ]
  },
  {
   "cell_type": "code",
   "execution_count": null,
   "id": "649c270d-063c-463b-bd4d-f23f64bf3432",
   "metadata": {},
   "outputs": [],
   "source": [
    "ticker = 'UBER'  #Uber start=   end = current date"
   ]
  },
  {
   "cell_type": "code",
   "execution_count": null,
   "id": "2568d650-3dca-45e9-b3ec-e61ebf650e41",
   "metadata": {},
   "outputs": [],
   "source": [
    "ticker = 'TSLA'  #Tesla start=   end = current date"
   ]
  },
  {
   "cell_type": "code",
   "execution_count": null,
   "id": "76f7664a-912b-4f22-a3cf-c4eef0b88b11",
   "metadata": {},
   "outputs": [],
   "source": [
    "ticker"
   ]
  },
  {
   "cell_type": "code",
   "execution_count": 2,
   "id": "5752cc7c-b790-4675-bad8-5b51dbbb7f6a",
   "metadata": {},
   "outputs": [],
   "source": [
    "import datetime as dt\n",
    "from datetime import date\n",
    "import yfinance as yf\n",
    "import numpy as np\n",
    "import tensorflow as tf"
   ]
  },
  {
   "cell_type": "code",
   "execution_count": 3,
   "id": "43ecf5b9-55ed-4d48-a869-12cf7e23e255",
   "metadata": {},
   "outputs": [],
   "source": [
    "START = \"2015-01-01\"\n",
    "TODAY = date.today().strftime(\"%Y-%m-%d\")\n",
    "\n",
    "# Define a function to load the dataset\n",
    "\n",
    "def load_data(ticker):\n",
    "    data = yf.download(ticker, START, TODAY)\n",
    "    data.reset_index(inplace=True)\n",
    "    return data"
   ]
  },
  {
   "cell_type": "code",
   "execution_count": 4,
   "id": "a439e358-fefb-49ed-8240-7552bd1d6e0c",
   "metadata": {},
   "outputs": [
    {
     "name": "stderr",
     "output_type": "stream",
     "text": [
      "[*********************100%%**********************]  1 of 1 completed\n"
     ]
    }
   ],
   "source": [
    "df = load_data(\"AAPL\")"
   ]
  },
  {
   "cell_type": "code",
   "execution_count": 5,
   "id": "d5e68440-d31b-4849-ba0a-5219352b0373",
   "metadata": {},
   "outputs": [
    {
     "data": {
      "text/plain": [
       "(2338, 7)"
      ]
     },
     "execution_count": 5,
     "metadata": {},
     "output_type": "execute_result"
    }
   ],
   "source": [
    "df.shape"
   ]
  },
  {
   "cell_type": "code",
   "execution_count": 6,
   "id": "3d775e5c-139f-49f2-986d-b2ff4ffe719b",
   "metadata": {},
   "outputs": [
    {
     "data": {
      "text/plain": [
       "1637"
      ]
     },
     "execution_count": 6,
     "metadata": {},
     "output_type": "execute_result"
    }
   ],
   "source": [
    "data=df.filter(['Open'])\n",
    "#Convert to np array\n",
    "dataset=data.values\n",
    "#Get the number of rows to train the model on\n",
    "#math.ceil to round up \n",
    "training_data_len = math.ceil(len(dataset)*.7)\n",
    "#print(dataset)\n",
    "training_data_len"
   ]
  },
  {
   "cell_type": "code",
   "execution_count": 7,
   "id": "d298fedb-9bc3-4537-92d0-1724536f42a0",
   "metadata": {},
   "outputs": [],
   "source": [
    "#Scale the data\n",
    "scaler = MinMaxScaler(feature_range=(0,1))\n",
    "scaled_data = scaler.fit_transform(dataset)"
   ]
  },
  {
   "cell_type": "code",
   "execution_count": 8,
   "id": "c256b789-eb25-4e43-8e24-e5a1f5865a39",
   "metadata": {},
   "outputs": [
    {
     "name": "stdout",
     "output_type": "stream",
     "text": [
      "[array([0.03046661, 0.02605116, 0.02355857, 0.02449863, 0.02739005,\n",
      "       0.03228976, 0.03219006, 0.03052359, 0.02711942, 0.02848678,\n",
      "       0.02425649, 0.0254102 , 0.02699122, 0.02885711, 0.03176277,\n",
      "       0.03381381, 0.03193368, 0.03935448, 0.0374886 , 0.04045123,\n",
      "       0.03995272, 0.04059366, 0.04059366, 0.04275865, 0.04275865,\n",
      "       0.04066488, 0.04297231, 0.04667559, 0.05136166, 0.05309936,\n",
      "       0.05339847, 0.05359788, 0.05480856, 0.05500797, 0.05700206,\n",
      "       0.06116112, 0.05919553, 0.0552501 , 0.05697356, 0.05590531,\n",
      "       0.05549226, 0.05569167, 0.054951  , 0.05469461, 0.05406791,\n",
      "       0.05186019, 0.04949578, 0.04602039, 0.04899727, 0.0482566 ,\n",
      "       0.05113377, 0.05270055, 0.05519314, 0.05448097, 0.05287147,\n",
      "       0.05302815, 0.05204535, 0.04666135, 0.0492394 , 0.04849875])]\n",
      "[0.05140439189180379]\n",
      "\n"
     ]
    }
   ],
   "source": [
    "#Create training dataset\n",
    "#Create scaled training dataset\n",
    "train_data = scaled_data[0:training_data_len,:]\n",
    "#Split the data into x_train and y_train data set\n",
    "x_train=[]\n",
    "y_train=[]\n",
    "\n",
    "for i in range(60, len(train_data)):\n",
    "    x_train.append(train_data[i-60:i,0])\n",
    "    y_train.append(train_data[i,0])\n",
    "    if i<=60:\n",
    "        print(x_train)\n",
    "        print(y_train)\n",
    "        print()"
   ]
  },
  {
   "cell_type": "code",
   "execution_count": 9,
   "id": "a51974f3-56ac-4e29-ae13-cb1b33227efd",
   "metadata": {},
   "outputs": [],
   "source": [
    "#convert the x_train and y_train to numpy arrays\n",
    "x_train, y_train = np.array(x_train), np.array(y_train)"
   ]
  },
  {
   "cell_type": "code",
   "execution_count": 10,
   "id": "693a43c7-4177-458b-a1ae-33e7e429b67a",
   "metadata": {},
   "outputs": [
    {
     "data": {
      "text/plain": [
       "(1577, 60, 1)"
      ]
     },
     "execution_count": 10,
     "metadata": {},
     "output_type": "execute_result"
    }
   ],
   "source": [
    "#Reshape the data into 3 dimensional\n",
    "x_train = np.reshape(x_train, (x_train.shape[0], x_train.shape[1], 1))\n",
    "x_train.shape"
   ]
  },
  {
   "cell_type": "code",
   "execution_count": 11,
   "id": "313adb36-60e1-4881-a6bd-7e5006f815d1",
   "metadata": {},
   "outputs": [
    {
     "name": "stderr",
     "output_type": "stream",
     "text": [
      "G:\\Anaconda3\\Lib\\site-packages\\keras\\src\\layers\\rnn\\rnn.py:204: UserWarning: Do not pass an `input_shape`/`input_dim` argument to a layer. When using Sequential models, prefer using an `Input(shape)` object as the first layer in the model instead.\n",
      "  super().__init__(**kwargs)\n"
     ]
    },
    {
     "name": "stdout",
     "output_type": "stream",
     "text": [
      "\u001b[1m1577/1577\u001b[0m \u001b[32m━━━━━━━━━━━━━━━━━━━━\u001b[0m\u001b[37m\u001b[0m \u001b[1m22s\u001b[0m 12ms/step - loss: 0.0021\n"
     ]
    },
    {
     "data": {
      "text/plain": [
       "<keras.src.callbacks.history.History at 0x29a87ce7410>"
      ]
     },
     "execution_count": 11,
     "metadata": {},
     "output_type": "execute_result"
    }
   ],
   "source": [
    "from keras.models import Sequential\n",
    "from keras.layers import Dense, LSTM\n",
    "from tensorflow.python.keras.backend import get_session\n",
    "\n",
    "# Build the LSTM model\n",
    "model = Sequential()\n",
    "model.add(LSTM(128, return_sequences=True, input_shape= (x_train.shape[1], 1)))\n",
    "model.add(LSTM(64, return_sequences=False))\n",
    "model.add(Dense(25))\n",
    "model.add(Dense(1))\n",
    "\n",
    "# Compile the model\n",
    "model.compile(optimizer='adam', loss='mean_squared_error')\n",
    "\n",
    "# Train the model\n",
    "model.fit(x_train, y_train, batch_size=1, epochs=1)\n"
   ]
  },
  {
   "cell_type": "code",
   "execution_count": 12,
   "id": "10c04175-d78a-4ee1-9f65-1f0ba1b82d14",
   "metadata": {},
   "outputs": [],
   "source": [
    "#Create the test data set\n",
    "#Create a new array containing scaled values\n",
    "test_data=scaled_data[training_data_len-60: , : ]\n",
    "#Create the data sets x_test and y_test\n",
    "\n",
    "x_test=[]\n",
    "y_test=dataset[training_data_len:,:]\n",
    "for i in range(60, len(test_data)):\n",
    "    x_test.append(test_data[i-60:i,0])"
   ]
  },
  {
   "cell_type": "code",
   "execution_count": 13,
   "id": "e95f02e1-68d4-43f5-8428-ab1c949bf4da",
   "metadata": {},
   "outputs": [],
   "source": [
    "#Convert the data to a numpy array\n",
    "x_test=np.array(x_test)"
   ]
  },
  {
   "cell_type": "code",
   "execution_count": 14,
   "id": "5e06bb1b-564f-4bad-abe7-1ece700b5174",
   "metadata": {},
   "outputs": [
    {
     "name": "stdout",
     "output_type": "stream",
     "text": [
      "[[0.61132635 0.62682316 0.62636736 ... 0.64761848 0.65006839 0.65747488]\n",
      " [0.62682316 0.62636736 0.64061075 ... 0.65006839 0.65747488 0.66983822]\n",
      " [0.62636736 0.64061075 0.63422974 ... 0.65747488 0.66983822 0.68960797]\n",
      " ...\n",
      " [0.93203049 0.95048996 0.96741112 ... 0.83352324 0.83090242 0.86463076]\n",
      " [0.95048996 0.96741112 0.98290793 ... 0.83090242 0.86463076 0.87089789]\n",
      " [0.96741112 0.98290793 0.98518684 ... 0.86463076 0.87089789 0.85033043]]\n"
     ]
    }
   ],
   "source": [
    "print(x_test)"
   ]
  },
  {
   "cell_type": "code",
   "execution_count": 15,
   "id": "e850038d-e9cc-4dfc-8d8e-7a44c85d692f",
   "metadata": {},
   "outputs": [],
   "source": [
    "#Reshape the data to 3d\n",
    "x_test=np.reshape(x_test,(x_test.shape[0], x_test.shape[1], 1))"
   ]
  },
  {
   "cell_type": "code",
   "execution_count": 16,
   "id": "0108c35a-4a8e-418c-b0f2-4119894f61d7",
   "metadata": {},
   "outputs": [
    {
     "name": "stdout",
     "output_type": "stream",
     "text": [
      "\u001b[1m22/22\u001b[0m \u001b[32m━━━━━━━━━━━━━━━━━━━━\u001b[0m\u001b[37m\u001b[0m \u001b[1m1s\u001b[0m 34ms/step\n"
     ]
    }
   ],
   "source": [
    "#Get the models predicted price values\n",
    "predictions=model.predict(x_test)\n",
    "predictions=scaler.inverse_transform(predictions)"
   ]
  },
  {
   "cell_type": "code",
   "execution_count": 17,
   "id": "548f860a-bd48-4ec5-ab22-8ce21053fd16",
   "metadata": {},
   "outputs": [
    {
     "data": {
      "text/plain": [
       "3.772776920683204"
      ]
     },
     "execution_count": 17,
     "metadata": {},
     "output_type": "execute_result"
    }
   ],
   "source": [
    "#Get root mean squared error(RMSE)\n",
    "rmse =np.sqrt(np.mean(predictions-y_test)**2)\n",
    "rmse"
   ]
  },
  {
   "cell_type": "code",
   "execution_count": 18,
   "id": "a8efa9c5-7ad7-4a3d-a848-fe310a5f9dee",
   "metadata": {},
   "outputs": [],
   "source": [
    "#choose plotting style\n",
    "\n",
    "#plt.style.use('fivethirtyeight')\n",
    "plt.style.use('dark_background')\n",
    "#plt.style.use('ggplot')\n",
    "#plt.style.use('seaborn-whitegrid')\n",
    "#plt.style.use('bmh')\n",
    "#plt.style.use('seaborn')"
   ]
  },
  {
   "cell_type": "code",
   "execution_count": 22,
   "id": "b641dcc0-e312-4462-9e5d-30b61bd468a1",
   "metadata": {},
   "outputs": [
    {
     "name": "stderr",
     "output_type": "stream",
     "text": [
      "C:\\Users\\mural\\AppData\\Local\\Temp\\ipykernel_10996\\4052146878.py:5: SettingWithCopyWarning: \n",
      "A value is trying to be set on a copy of a slice from a DataFrame.\n",
      "Try using .loc[row_indexer,col_indexer] = value instead\n",
      "\n",
      "See the caveats in the documentation: https://pandas.pydata.org/pandas-docs/stable/user_guide/indexing.html#returning-a-view-versus-a-copy\n",
      "  valid['predictions'] = predictions\n"
     ]
    },
    {
     "data": {
      "image/png": "[encoded data removed]",
      "text/plain": [
       "<Figure size 1600x800 with 1 Axes>"
      ]
     },
     "metadata": {},
     "output_type": "display_data"
    }
   ],
   "source": [
    "#plot the data\n",
    "\n",
    "train=data[:training_data_len]\n",
    "valid=data[training_data_len:]\n",
    "valid['predictions'] = predictions\n",
    "\n",
    "#Visualize the data\n",
    "plt.figure(figsize=(16,8))\n",
    "plt.title('APPL company - Model prediciton comparison')\n",
    "plt.xlabel('Date', fontsize=18)\n",
    "plt.ylabel('Open Price USD($)', fontsize=18)\n",
    "plt.plot(train['Open'] , color='red')\n",
    "plt.plot(valid['Open'] , color='yellow')\n",
    "plt.plot(valid[ 'predictions'] , color='green')\n",
    "plt.legend(['Train','Validation', 'predictions'], loc='lower right')\n",
    "#plt.savefig('/content/prediction.png')\n",
    "plt.show()"
   ]
  },
  {
   "cell_type": "code",
   "execution_count": 20,
   "id": "7dc83744-fcd8-485f-b6e1-c56babe31d7a",
   "metadata": {},
   "outputs": [
    {
     "data": {
      "text/html": [
       "<div>\n",
       "<style scoped>\n",
       "    .dataframe tbody tr th:only-of-type {\n",
       "        vertical-align: middle;\n",
       "    }\n",
       "\n",
       "    .dataframe tbody tr th {\n",
       "        vertical-align: top;\n",
       "    }\n",
       "\n",
       "    .dataframe thead th {\n",
       "        text-align: right;\n",
       "    }\n",
       "</style>\n",
       "<table border=\"1\" class=\"dataframe\">\n",
       "  <thead>\n",
       "    <tr style=\"text-align: right;\">\n",
       "      <th></th>\n",
       "      <th>Open</th>\n",
       "      <th>predictions</th>\n",
       "    </tr>\n",
       "  </thead>\n",
       "  <tbody>\n",
       "    <tr>\n",
       "      <th>2323</th>\n",
       "      <td>170.410004</td>\n",
       "      <td>176.652740</td>\n",
       "    </tr>\n",
       "    <tr>\n",
       "      <th>2324</th>\n",
       "      <td>171.750000</td>\n",
       "      <td>175.977814</td>\n",
       "    </tr>\n",
       "    <tr>\n",
       "      <th>2325</th>\n",
       "      <td>171.190002</td>\n",
       "      <td>175.572372</td>\n",
       "    </tr>\n",
       "    <tr>\n",
       "      <th>2326</th>\n",
       "      <td>169.080002</td>\n",
       "      <td>175.274765</td>\n",
       "    </tr>\n",
       "    <tr>\n",
       "      <th>2327</th>\n",
       "      <td>168.789993</td>\n",
       "      <td>174.810013</td>\n",
       "    </tr>\n",
       "    <tr>\n",
       "      <th>2328</th>\n",
       "      <td>170.289993</td>\n",
       "      <td>174.304077</td>\n",
       "    </tr>\n",
       "    <tr>\n",
       "      <th>2329</th>\n",
       "      <td>169.589996</td>\n",
       "      <td>174.035202</td>\n",
       "    </tr>\n",
       "    <tr>\n",
       "      <th>2330</th>\n",
       "      <td>169.029999</td>\n",
       "      <td>173.818451</td>\n",
       "    </tr>\n",
       "    <tr>\n",
       "      <th>2331</th>\n",
       "      <td>168.699997</td>\n",
       "      <td>173.591782</td>\n",
       "    </tr>\n",
       "    <tr>\n",
       "      <th>2332</th>\n",
       "      <td>168.800003</td>\n",
       "      <td>173.351593</td>\n",
       "    </tr>\n",
       "    <tr>\n",
       "      <th>2333</th>\n",
       "      <td>168.339996</td>\n",
       "      <td>173.150040</td>\n",
       "    </tr>\n",
       "    <tr>\n",
       "      <th>2334</th>\n",
       "      <td>174.259995</td>\n",
       "      <td>172.933578</td>\n",
       "    </tr>\n",
       "    <tr>\n",
       "      <th>2335</th>\n",
       "      <td>175.360001</td>\n",
       "      <td>173.493423</td>\n",
       "    </tr>\n",
       "    <tr>\n",
       "      <th>2336</th>\n",
       "      <td>171.750000</td>\n",
       "      <td>174.459000</td>\n",
       "    </tr>\n",
       "    <tr>\n",
       "      <th>2337</th>\n",
       "      <td>169.610001</td>\n",
       "      <td>175.036224</td>\n",
       "    </tr>\n",
       "  </tbody>\n",
       "</table>\n",
       "</div>"
      ],
      "text/plain": [
       "            Open  predictions\n",
       "2323  170.410004   176.652740\n",
       "2324  171.750000   175.977814\n",
       "2325  171.190002   175.572372\n",
       "2326  169.080002   175.274765\n",
       "2327  168.789993   174.810013\n",
       "2328  170.289993   174.304077\n",
       "2329  169.589996   174.035202\n",
       "2330  169.029999   173.818451\n",
       "2331  168.699997   173.591782\n",
       "2332  168.800003   173.351593\n",
       "2333  168.339996   173.150040\n",
       "2334  174.259995   172.933578\n",
       "2335  175.360001   173.493423\n",
       "2336  171.750000   174.459000\n",
       "2337  169.610001   175.036224"
      ]
     },
     "execution_count": 20,
     "metadata": {},
     "output_type": "execute_result"
    }
   ],
   "source": [
    "#Show the valid and predicted prices\n",
    "valid.tail(15)"
   ]
  },
  {
   "cell_type": "code",
   "execution_count": 24,
   "id": "99ebafd2-4151-43f8-a6c1-3a45f8d0c9b9",
   "metadata": {},
   "outputs": [
    {
     "name": "stderr",
     "output_type": "stream",
     "text": [
      "[*********************100%%**********************]  1 of 1 completed"
     ]
    },
    {
     "name": "stdout",
     "output_type": "stream",
     "text": [
      "\u001b[1m1/1\u001b[0m \u001b[32m━━━━━━━━━━━━━━━━━━━━\u001b[0m\u001b[37m\u001b[0m \u001b[1m0s\u001b[0m 23ms/step\n",
      "Opening Price of AAPL tomorrow:[[175.1011]]\n"
     ]
    },
    {
     "name": "stderr",
     "output_type": "stream",
     "text": [
      "\n"
     ]
    }
   ],
   "source": [
    "#Get the quote\n",
    "START = \"2015-01-01\"\n",
    "TODAY = date.today().strftime(\"%Y-%m-%d\")\n",
    "ticker =\"AAPL\"\n",
    "\n",
    "stock_quote = load_data(ticker)\n",
    "\n",
    "new_df=stock_quote.filter(['Open'])\n",
    "#Get last 60 days values and convert into array\n",
    "last_60_days=new_df[-60:].values\n",
    "\n",
    "#Scale the data to be values between 0\n",
    "last_60_days_scaled=scaler.transform(last_60_days)\n",
    "\n",
    "#Create an empty list\n",
    "X_test=[]\n",
    "#Appemd the past 60days\n",
    "X_test.append(last_60_days_scaled)\n",
    "\n",
    "#Conver the X_test data into numpy array\n",
    "X_test = np.array(X_test)\n",
    "\n",
    "#Reshape the data\n",
    "X_test = np.reshape(X_test, (X_test.shape[0], X_test.shape[1],1))\n",
    "#Get predicted scaled price\n",
    "pred_price = model.predict(X_test)\n",
    "#undo the scaling\n",
    "pred_price=scaler.inverse_transform(pred_price)\n",
    "print(f'Opening Price of {ticker} tomorrow:{pred_price}')"
   ]
  },
  {
   "cell_type": "code",
   "execution_count": 25,
   "id": "4c58e3ed-3ba7-4c1a-a133-e76c56cd4a4c",
   "metadata": {},
   "outputs": [
    {
     "name": "stderr",
     "output_type": "stream",
     "text": [
      "[*********************100%%**********************]  1 of 1 completed"
     ]
    },
    {
     "name": "stdout",
     "output_type": "stream",
     "text": [
      "\u001b[1m1/1\u001b[0m \u001b[32m━━━━━━━━━━━━━━━━━━━━\u001b[0m\u001b[37m\u001b[0m \u001b[1m0s\u001b[0m 25ms/step\n",
      "Opening Price of AAPL tomorrow:[[175.1011]]\n"
     ]
    },
    {
     "name": "stderr",
     "output_type": "stream",
     "text": [
      "\n"
     ]
    }
   ],
   "source": [
    "#Get the quote\n",
    "#Get the quote\n",
    "START = \"2015-01-01\"\n",
    "TODAY = date.today().strftime(\"%Y-%m-%d\")\n",
    "ticker =\"AAPL\"\n",
    "\n",
    "stock_quote = load_data(ticker)\n",
    "\n",
    "new_df=stock_quote.filter(['Open'])\n",
    "#Get last 60 days values and convert into array\n",
    "last_60_days=new_df[-60:].values\n",
    "\n",
    "#Scale the data to be values between 0\n",
    "last_60_days_scaled=scaler.transform(last_60_days)\n",
    "\n",
    "#Create an empty list\n",
    "X_test=[]\n",
    "#Appemd the past 60days\n",
    "X_test.append(last_60_days_scaled)\n",
    "\n",
    "#Conver the X_test data into numpy array\n",
    "X_test = np.array(X_test)\n",
    "\n",
    "#Reshape the data\n",
    "X_test = np.reshape(X_test, (X_test.shape[0], X_test.shape[1],1))\n",
    "#Get predicted scaled price\n",
    "pred_price = model.predict(X_test)\n",
    "#undo the scaling\n",
    "pred_price=scaler.inverse_transform(pred_price)\n",
    "print(f'Opening Price of {ticker} tomorrow:{pred_price}')"
   ]
  },
  {
   "cell_type": "code",
   "execution_count": 26,
   "id": "3e7cef4e-643f-4d4a-8d63-70b15813569b",
   "metadata": {},
   "outputs": [
    {
     "ename": "AttributeError",
     "evalue": "'NoneType' object has no attribute 'group'",
     "output_type": "error",
     "traceback": [
      "\u001b[1;31m---------------------------------------------------------------------------\u001b[0m",
      "\u001b[1;31mAttributeError\u001b[0m                            Traceback (most recent call last)",
      "Cell \u001b[1;32mIn[26], line 1\u001b[0m\n\u001b[1;32m----> 1\u001b[0m df\u001b[38;5;241m=\u001b[39mweb\u001b[38;5;241m.\u001b[39mDataReader(ticker, data_source\u001b[38;5;241m=\u001b[39m\u001b[38;5;124m'\u001b[39m\u001b[38;5;124myahoo\u001b[39m\u001b[38;5;124m'\u001b[39m, start\u001b[38;5;241m=\u001b[39m\u001b[38;5;124m'\u001b[39m\u001b[38;5;124m2015-01-01\u001b[39m\u001b[38;5;124m'\u001b[39m, end\u001b[38;5;241m=\u001b[39m\u001b[38;5;124m'\u001b[39m\u001b[38;5;124m2020-05-24\u001b[39m\u001b[38;5;124m'\u001b[39m)    \u001b[38;5;66;03m#YYYY-MM-DD\u001b[39;00m\n\u001b[0;32m      2\u001b[0m df\n",
      "File \u001b[1;32mG:\\Anaconda3\\Lib\\site-packages\\pandas\\util\\_decorators.py:213\u001b[0m, in \u001b[0;36mdeprecate_kwarg.<locals>._deprecate_kwarg.<locals>.wrapper\u001b[1;34m(*args, **kwargs)\u001b[0m\n\u001b[0;32m    211\u001b[0m         \u001b[38;5;28;01mraise\u001b[39;00m \u001b[38;5;167;01mTypeError\u001b[39;00m(msg)\n\u001b[0;32m    212\u001b[0m     kwargs[new_arg_name] \u001b[38;5;241m=\u001b[39m new_arg_value\n\u001b[1;32m--> 213\u001b[0m \u001b[38;5;28;01mreturn\u001b[39;00m func(\u001b[38;5;241m*\u001b[39margs, \u001b[38;5;241m*\u001b[39m\u001b[38;5;241m*\u001b[39mkwargs)\n",
      "File \u001b[1;32mG:\\Anaconda3\\Lib\\site-packages\\pandas_datareader\\data.py:379\u001b[0m, in \u001b[0;36mDataReader\u001b[1;34m(name, data_source, start, end, retry_count, pause, session, api_key)\u001b[0m\n\u001b[0;32m    367\u001b[0m     \u001b[38;5;28;01mraise\u001b[39;00m \u001b[38;5;167;01mNotImplementedError\u001b[39;00m(msg)\n\u001b[0;32m    369\u001b[0m \u001b[38;5;28;01mif\u001b[39;00m data_source \u001b[38;5;241m==\u001b[39m \u001b[38;5;124m\"\u001b[39m\u001b[38;5;124myahoo\u001b[39m\u001b[38;5;124m\"\u001b[39m:\n\u001b[0;32m    370\u001b[0m     \u001b[38;5;28;01mreturn\u001b[39;00m YahooDailyReader(\n\u001b[0;32m    371\u001b[0m         symbols\u001b[38;5;241m=\u001b[39mname,\n\u001b[0;32m    372\u001b[0m         start\u001b[38;5;241m=\u001b[39mstart,\n\u001b[0;32m    373\u001b[0m         end\u001b[38;5;241m=\u001b[39mend,\n\u001b[0;32m    374\u001b[0m         adjust_price\u001b[38;5;241m=\u001b[39m\u001b[38;5;28;01mFalse\u001b[39;00m,\n\u001b[0;32m    375\u001b[0m         chunksize\u001b[38;5;241m=\u001b[39m\u001b[38;5;241m25\u001b[39m,\n\u001b[0;32m    376\u001b[0m         retry_count\u001b[38;5;241m=\u001b[39mretry_count,\n\u001b[0;32m    377\u001b[0m         pause\u001b[38;5;241m=\u001b[39mpause,\n\u001b[0;32m    378\u001b[0m         session\u001b[38;5;241m=\u001b[39msession,\n\u001b[1;32m--> 379\u001b[0m     )\u001b[38;5;241m.\u001b[39mread()\n\u001b[0;32m    381\u001b[0m \u001b[38;5;28;01melif\u001b[39;00m data_source \u001b[38;5;241m==\u001b[39m \u001b[38;5;124m\"\u001b[39m\u001b[38;5;124miex\u001b[39m\u001b[38;5;124m\"\u001b[39m:\n\u001b[0;32m    382\u001b[0m     \u001b[38;5;28;01mreturn\u001b[39;00m IEXDailyReader(\n\u001b[0;32m    383\u001b[0m         symbols\u001b[38;5;241m=\u001b[39mname,\n\u001b[0;32m    384\u001b[0m         start\u001b[38;5;241m=\u001b[39mstart,\n\u001b[1;32m   (...)\u001b[0m\n\u001b[0;32m    390\u001b[0m         session\u001b[38;5;241m=\u001b[39msession,\n\u001b[0;32m    391\u001b[0m     )\u001b[38;5;241m.\u001b[39mread()\n",
      "File \u001b[1;32mG:\\Anaconda3\\Lib\\site-packages\\pandas_datareader\\base.py:253\u001b[0m, in \u001b[0;36m_DailyBaseReader.read\u001b[1;34m(self)\u001b[0m\n\u001b[0;32m    251\u001b[0m \u001b[38;5;66;03m# If a single symbol, (e.g., 'GOOG')\u001b[39;00m\n\u001b[0;32m    252\u001b[0m \u001b[38;5;28;01mif\u001b[39;00m \u001b[38;5;28misinstance\u001b[39m(\u001b[38;5;28mself\u001b[39m\u001b[38;5;241m.\u001b[39msymbols, (string_types, \u001b[38;5;28mint\u001b[39m)):\n\u001b[1;32m--> 253\u001b[0m     df \u001b[38;5;241m=\u001b[39m \u001b[38;5;28mself\u001b[39m\u001b[38;5;241m.\u001b[39m_read_one_data(\u001b[38;5;28mself\u001b[39m\u001b[38;5;241m.\u001b[39murl, params\u001b[38;5;241m=\u001b[39m\u001b[38;5;28mself\u001b[39m\u001b[38;5;241m.\u001b[39m_get_params(\u001b[38;5;28mself\u001b[39m\u001b[38;5;241m.\u001b[39msymbols))\n\u001b[0;32m    254\u001b[0m \u001b[38;5;66;03m# Or multiple symbols, (e.g., ['GOOG', 'AAPL', 'MSFT'])\u001b[39;00m\n\u001b[0;32m    255\u001b[0m \u001b[38;5;28;01melif\u001b[39;00m \u001b[38;5;28misinstance\u001b[39m(\u001b[38;5;28mself\u001b[39m\u001b[38;5;241m.\u001b[39msymbols, DataFrame):\n",
      "File \u001b[1;32mG:\\Anaconda3\\Lib\\site-packages\\pandas_datareader\\yahoo\\daily.py:152\u001b[0m, in \u001b[0;36mYahooDailyReader._read_one_data\u001b[1;34m(self, url, params)\u001b[0m\n\u001b[0;32m    150\u001b[0m ptrn \u001b[38;5;241m=\u001b[39m \u001b[38;5;124mr\u001b[39m\u001b[38;5;124m\"\u001b[39m\u001b[38;5;124mroot\u001b[39m\u001b[38;5;124m\\\u001b[39m\u001b[38;5;124m.App\u001b[39m\u001b[38;5;124m\\\u001b[39m\u001b[38;5;124m.main = (.*?);\u001b[39m\u001b[38;5;124m\\\u001b[39m\u001b[38;5;124mn}\u001b[39m\u001b[38;5;124m\\\u001b[39m\u001b[38;5;124m(this\u001b[39m\u001b[38;5;124m\\\u001b[39m\u001b[38;5;124m)\u001b[39m\u001b[38;5;124m\\\u001b[39m\u001b[38;5;124m);\u001b[39m\u001b[38;5;124m\"\u001b[39m\n\u001b[0;32m    151\u001b[0m \u001b[38;5;28;01mtry\u001b[39;00m:\n\u001b[1;32m--> 152\u001b[0m     j \u001b[38;5;241m=\u001b[39m json\u001b[38;5;241m.\u001b[39mloads(re\u001b[38;5;241m.\u001b[39msearch(ptrn, resp\u001b[38;5;241m.\u001b[39mtext, re\u001b[38;5;241m.\u001b[39mDOTALL)\u001b[38;5;241m.\u001b[39mgroup(\u001b[38;5;241m1\u001b[39m))\n\u001b[0;32m    153\u001b[0m     data \u001b[38;5;241m=\u001b[39m j[\u001b[38;5;124m\"\u001b[39m\u001b[38;5;124mcontext\u001b[39m\u001b[38;5;124m\"\u001b[39m][\u001b[38;5;124m\"\u001b[39m\u001b[38;5;124mdispatcher\u001b[39m\u001b[38;5;124m\"\u001b[39m][\u001b[38;5;124m\"\u001b[39m\u001b[38;5;124mstores\u001b[39m\u001b[38;5;124m\"\u001b[39m][\u001b[38;5;124m\"\u001b[39m\u001b[38;5;124mHistoricalPriceStore\u001b[39m\u001b[38;5;124m\"\u001b[39m]\n\u001b[0;32m    154\u001b[0m \u001b[38;5;28;01mexcept\u001b[39;00m \u001b[38;5;167;01mKeyError\u001b[39;00m:\n",
      "\u001b[1;31mAttributeError\u001b[0m: 'NoneType' object has no attribute 'group'"
     ]
    }
   ],
   "source": [
    "df=web.DataReader(ticker, data_source='yahoo', start='2015-01-01', end='2020-05-24')    #YYYY-MM-DD\n",
    "df"
   ]
  },
  {
   "cell_type": "code",
   "execution_count": null,
   "id": "e5e0736b-e411-4d45-b7df-babc5b2019f2",
   "metadata": {},
   "outputs": [],
   "source": []
  },
  {
   "cell_type": "code",
   "execution_count": null,
   "id": "26c43bc5-4977-47ac-99b3-07192faf0b78",
   "metadata": {},
   "outputs": [],
   "source": []
  }
 ],
 "metadata": {
  "kernelspec": {
   "display_name": "Python 3 (ipykernel)",
   "language": "python",
   "name": "python3"
  },
  "language_info": {
   "codemirror_mode": {
    "name": "ipython",
    "version": 3
   },
   "file_extension": ".py",
   "mimetype": "text/x-python",
   "name": "python",
   "nbconvert_exporter": "python",
   "pygments_lexer": "ipython3",
   "version": "3.11.7"
  }
 },
 "nbformat": 4,
 "nbformat_minor": 5
}
